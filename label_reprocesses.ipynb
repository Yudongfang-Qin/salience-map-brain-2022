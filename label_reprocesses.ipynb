{
  "nbformat": 4,
  "nbformat_minor": 0,
  "metadata": {
    "colab": {
      "name": "label_reprocesses.ipynb",
      "provenance": []
    },
    "kernelspec": {
      "name": "python3",
      "display_name": "Python 3"
    },
    "language_info": {
      "name": "python"
    }
  },
  "cells": [
    {
      "cell_type": "code",
      "execution_count": null,
      "metadata": {
        "id": "2sDUt5cYbJAR"
      },
      "outputs": [],
      "source": [
        "\n",
        "import numpy as np\n",
        "\n",
        "import pandas as pd\n",
        "\n",
        "import matplotlib.pyplot as plt\n",
        "from pandas import read_csv\n",
        "\n",
        "import random\n",
        "#import av\n",
        "import os \n",
        "import numpy as np\n",
        "import skimage as ski\n",
        "import skimage.feature\n",
        "import matplotlib.pyplot as plt\n",
        "from PIL import Image\n",
        "import random\n",
        "import nibabel                      as nib\n",
        "import nibabel.freesurfer.mghformat as mgh\n",
        "\n",
        "from scipy.ndimage import zoom"
      ]
    },
    {
      "cell_type": "code",
      "source": [
        "from google.colab import drive\n",
        "drive.mount(\"/content/drive\")"
      ],
      "metadata": {
        "colab": {
          "base_uri": "https://localhost:8080/"
        },
        "id": "pILR3fZJbpwR",
        "outputId": "06231276-2623-480e-81d1-c3519dc64793"
      },
      "execution_count": null,
      "outputs": [
        {
          "output_type": "stream",
          "name": "stdout",
          "text": [
            "Mounted at /content/drive\n"
          ]
        }
      ]
    },
    {
      "cell_type": "code",
      "source": [
        "df=pd.read_csv('/content/drive/MyDrive/Colab Notebooks/s3downloads/code/code_genotype/df_UKBB_APOE.csv')\n",
        "df"
      ],
      "metadata": {
        "colab": {
          "base_uri": "https://localhost:8080/",
          "height": 423
        },
        "id": "IR9LW-gDbxMz",
        "outputId": "d5e0ed87-8896-432e-ebb1-45189257a9dd"
      },
      "execution_count": null,
      "outputs": [
        {
          "output_type": "execute_result",
          "data": {
            "text/plain": [
              "        subj_id  rs429358  rs7412\n",
              "0       1805819       1.0     2.0\n",
              "1       4872768       2.0     2.0\n",
              "2       1473575       2.0     2.0\n",
              "3       1660055       1.0     2.0\n",
              "4       2349666       2.0     2.0\n",
              "...         ...       ...     ...\n",
              "488372  4055286       NaN     NaN\n",
              "488373  4298513       NaN     NaN\n",
              "488374  5318493       NaN     NaN\n",
              "488375  3150282       NaN     NaN\n",
              "488376  5086554       NaN     NaN\n",
              "\n",
              "[488377 rows x 3 columns]"
            ],
            "text/html": [
              "\n",
              "  <div id=\"df-982028cc-28a5-4721-9a96-a2e5c25bda98\">\n",
              "    <div class=\"colab-df-container\">\n",
              "      <div>\n",
              "<style scoped>\n",
              "    .dataframe tbody tr th:only-of-type {\n",
              "        vertical-align: middle;\n",
              "    }\n",
              "\n",
              "    .dataframe tbody tr th {\n",
              "        vertical-align: top;\n",
              "    }\n",
              "\n",
              "    .dataframe thead th {\n",
              "        text-align: right;\n",
              "    }\n",
              "</style>\n",
              "<table border=\"1\" class=\"dataframe\">\n",
              "  <thead>\n",
              "    <tr style=\"text-align: right;\">\n",
              "      <th></th>\n",
              "      <th>subj_id</th>\n",
              "      <th>rs429358</th>\n",
              "      <th>rs7412</th>\n",
              "    </tr>\n",
              "  </thead>\n",
              "  <tbody>\n",
              "    <tr>\n",
              "      <th>0</th>\n",
              "      <td>1805819</td>\n",
              "      <td>1.0</td>\n",
              "      <td>2.0</td>\n",
              "    </tr>\n",
              "    <tr>\n",
              "      <th>1</th>\n",
              "      <td>4872768</td>\n",
              "      <td>2.0</td>\n",
              "      <td>2.0</td>\n",
              "    </tr>\n",
              "    <tr>\n",
              "      <th>2</th>\n",
              "      <td>1473575</td>\n",
              "      <td>2.0</td>\n",
              "      <td>2.0</td>\n",
              "    </tr>\n",
              "    <tr>\n",
              "      <th>3</th>\n",
              "      <td>1660055</td>\n",
              "      <td>1.0</td>\n",
              "      <td>2.0</td>\n",
              "    </tr>\n",
              "    <tr>\n",
              "      <th>4</th>\n",
              "      <td>2349666</td>\n",
              "      <td>2.0</td>\n",
              "      <td>2.0</td>\n",
              "    </tr>\n",
              "    <tr>\n",
              "      <th>...</th>\n",
              "      <td>...</td>\n",
              "      <td>...</td>\n",
              "      <td>...</td>\n",
              "    </tr>\n",
              "    <tr>\n",
              "      <th>488372</th>\n",
              "      <td>4055286</td>\n",
              "      <td>NaN</td>\n",
              "      <td>NaN</td>\n",
              "    </tr>\n",
              "    <tr>\n",
              "      <th>488373</th>\n",
              "      <td>4298513</td>\n",
              "      <td>NaN</td>\n",
              "      <td>NaN</td>\n",
              "    </tr>\n",
              "    <tr>\n",
              "      <th>488374</th>\n",
              "      <td>5318493</td>\n",
              "      <td>NaN</td>\n",
              "      <td>NaN</td>\n",
              "    </tr>\n",
              "    <tr>\n",
              "      <th>488375</th>\n",
              "      <td>3150282</td>\n",
              "      <td>NaN</td>\n",
              "      <td>NaN</td>\n",
              "    </tr>\n",
              "    <tr>\n",
              "      <th>488376</th>\n",
              "      <td>5086554</td>\n",
              "      <td>NaN</td>\n",
              "      <td>NaN</td>\n",
              "    </tr>\n",
              "  </tbody>\n",
              "</table>\n",
              "<p>488377 rows × 3 columns</p>\n",
              "</div>\n",
              "      <button class=\"colab-df-convert\" onclick=\"convertToInteractive('df-982028cc-28a5-4721-9a96-a2e5c25bda98')\"\n",
              "              title=\"Convert this dataframe to an interactive table.\"\n",
              "              style=\"display:none;\">\n",
              "        \n",
              "  <svg xmlns=\"http://www.w3.org/2000/svg\" height=\"24px\"viewBox=\"0 0 24 24\"\n",
              "       width=\"24px\">\n",
              "    <path d=\"M0 0h24v24H0V0z\" fill=\"none\"/>\n",
              "    <path d=\"M18.56 5.44l.94 2.06.94-2.06 2.06-.94-2.06-.94-.94-2.06-.94 2.06-2.06.94zm-11 1L8.5 8.5l.94-2.06 2.06-.94-2.06-.94L8.5 2.5l-.94 2.06-2.06.94zm10 10l.94 2.06.94-2.06 2.06-.94-2.06-.94-.94-2.06-.94 2.06-2.06.94z\"/><path d=\"M17.41 7.96l-1.37-1.37c-.4-.4-.92-.59-1.43-.59-.52 0-1.04.2-1.43.59L10.3 9.45l-7.72 7.72c-.78.78-.78 2.05 0 2.83L4 21.41c.39.39.9.59 1.41.59.51 0 1.02-.2 1.41-.59l7.78-7.78 2.81-2.81c.8-.78.8-2.07 0-2.86zM5.41 20L4 18.59l7.72-7.72 1.47 1.35L5.41 20z\"/>\n",
              "  </svg>\n",
              "      </button>\n",
              "      \n",
              "  <style>\n",
              "    .colab-df-container {\n",
              "      display:flex;\n",
              "      flex-wrap:wrap;\n",
              "      gap: 12px;\n",
              "    }\n",
              "\n",
              "    .colab-df-convert {\n",
              "      background-color: #E8F0FE;\n",
              "      border: none;\n",
              "      border-radius: 50%;\n",
              "      cursor: pointer;\n",
              "      display: none;\n",
              "      fill: #1967D2;\n",
              "      height: 32px;\n",
              "      padding: 0 0 0 0;\n",
              "      width: 32px;\n",
              "    }\n",
              "\n",
              "    .colab-df-convert:hover {\n",
              "      background-color: #E2EBFA;\n",
              "      box-shadow: 0px 1px 2px rgba(60, 64, 67, 0.3), 0px 1px 3px 1px rgba(60, 64, 67, 0.15);\n",
              "      fill: #174EA6;\n",
              "    }\n",
              "\n",
              "    [theme=dark] .colab-df-convert {\n",
              "      background-color: #3B4455;\n",
              "      fill: #D2E3FC;\n",
              "    }\n",
              "\n",
              "    [theme=dark] .colab-df-convert:hover {\n",
              "      background-color: #434B5C;\n",
              "      box-shadow: 0px 1px 3px 1px rgba(0, 0, 0, 0.15);\n",
              "      filter: drop-shadow(0px 1px 2px rgba(0, 0, 0, 0.3));\n",
              "      fill: #FFFFFF;\n",
              "    }\n",
              "  </style>\n",
              "\n",
              "      <script>\n",
              "        const buttonEl =\n",
              "          document.querySelector('#df-982028cc-28a5-4721-9a96-a2e5c25bda98 button.colab-df-convert');\n",
              "        buttonEl.style.display =\n",
              "          google.colab.kernel.accessAllowed ? 'block' : 'none';\n",
              "\n",
              "        async function convertToInteractive(key) {\n",
              "          const element = document.querySelector('#df-982028cc-28a5-4721-9a96-a2e5c25bda98');\n",
              "          const dataTable =\n",
              "            await google.colab.kernel.invokeFunction('convertToInteractive',\n",
              "                                                     [key], {});\n",
              "          if (!dataTable) return;\n",
              "\n",
              "          const docLinkHtml = 'Like what you see? Visit the ' +\n",
              "            '<a target=\"_blank\" href=https://colab.research.google.com/notebooks/data_table.ipynb>data table notebook</a>'\n",
              "            + ' to learn more about interactive tables.';\n",
              "          element.innerHTML = '';\n",
              "          dataTable['output_type'] = 'display_data';\n",
              "          await google.colab.output.renderOutput(dataTable, element);\n",
              "          const docLink = document.createElement('div');\n",
              "          docLink.innerHTML = docLinkHtml;\n",
              "          element.appendChild(docLink);\n",
              "        }\n",
              "      </script>\n",
              "    </div>\n",
              "  </div>\n",
              "  "
            ]
          },
          "metadata": {},
          "execution_count": 3
        }
      ]
    },
    {
      "cell_type": "code",
      "source": [
        "idm=np.load(\"/content/drive/MyDrive/Colab Notebooks/s3downloads/data/UKBB/biobank_female_id_all.npy\")"
      ],
      "metadata": {
        "id": "nfCuuKHGb-AU"
      },
      "execution_count": null,
      "outputs": []
    },
    {
      "cell_type": "code",
      "source": [
        "len(idm)"
      ],
      "metadata": {
        "colab": {
          "base_uri": "https://localhost:8080/"
        },
        "id": "OUMH_24CcJ3s",
        "outputId": "41e27267-ef56-483a-86f8-8d1fc5976d51"
      },
      "execution_count": null,
      "outputs": [
        {
          "output_type": "execute_result",
          "data": {
            "text/plain": [
              "1991"
            ]
          },
          "metadata": {},
          "execution_count": 5
        }
      ]
    },
    {
      "cell_type": "code",
      "source": [
        "labellist=[]\n",
        "id_to_delete=[]\n",
        "\n",
        "for i in range(len(idm)):\n",
        "  buf_in=df.index[df['subj_id']==int(idm[i])].to_list()\n",
        "  if len(buf_in)>0:\n",
        "    a=(df.iloc[buf_in[0]].at[\"rs429358\"])\n",
        "    b=(df.iloc[buf_in[0]].at[\"rs7412\"])\n",
        "    if a==1 and b==2:\n",
        "      labellist.append(0)\n",
        "    elif a==2 and b==2:\n",
        "      labellist.append(1)\n",
        "    elif a==2 and b==1:\n",
        "      labellist.append(2)\n",
        "    elif a==0 and b==2:\n",
        "      labellist.append(3)\n",
        "    elif a==2 and b==0:\n",
        "      labellist.append(4)\n",
        "    elif a==1 and b==1:\n",
        "      labellist.append(5)\n",
        "    else:\n",
        "      id_to_delete.append(i)\n",
        "  else:\n",
        "    id_to_delete.append(i)"
      ],
      "metadata": {
        "id": "y52qLY-WcRnM"
      },
      "execution_count": null,
      "outputs": []
    },
    {
      "cell_type": "code",
      "source": [
        "len(labellist), len(id_to_delete)"
      ],
      "metadata": {
        "colab": {
          "base_uri": "https://localhost:8080/"
        },
        "id": "pt49xT8Ff0dP",
        "outputId": "b3d6acde-99e5-48dc-a4c3-d06e7422eaa2"
      },
      "execution_count": null,
      "outputs": [
        {
          "output_type": "execute_result",
          "data": {
            "text/plain": [
              "(1669, 322)"
            ]
          },
          "metadata": {},
          "execution_count": 7
        }
      ]
    },
    {
      "cell_type": "code",
      "source": [
        "np.save(\"/content/drive/MyDrive/Colab Notebooks/s3downloads/data/biobank/y_ukbb_saliency_map_female\", labellist)\n",
        "np.save(\"/content/drive/MyDrive/Colab Notebooks/s3downloads/data/biobank/id_to_delete_female\", id_to_delete)"
      ],
      "metadata": {
        "id": "MwUVxQJAqqJ6"
      },
      "execution_count": null,
      "outputs": []
    },
    {
      "cell_type": "code",
      "source": [
        "a=np.load('/content/drive/MyDrive/Colab Notebooks/s3downloads/data/biobank/id_to_delete_female.npy')\n",
        "a.shape"
      ],
      "metadata": {
        "id": "tDDRbiMZbqzk",
        "colab": {
          "base_uri": "https://localhost:8080/"
        },
        "outputId": "8b1c2fad-7d24-482a-c7ae-57e489c0f6bb"
      },
      "execution_count": null,
      "outputs": [
        {
          "output_type": "execute_result",
          "data": {
            "text/plain": [
              "(322,)"
            ]
          },
          "metadata": {},
          "execution_count": 3
        }
      ]
    },
    {
      "cell_type": "code",
      "source": [
        "a"
      ],
      "metadata": {
        "colab": {
          "base_uri": "https://localhost:8080/"
        },
        "id": "W2ZUoc9-ikX4",
        "outputId": "e2abea0b-191d-4566-9030-f34ace98f6b6"
      },
      "execution_count": null,
      "outputs": [
        {
          "output_type": "execute_result",
          "data": {
            "text/plain": [
              "array([   1,    3,    4,   25,   26,   29,   31,   32,   38,   39,   49,\n",
              "         50,   58,   59,   75,   77,   78,   85,   99,  100,  102,  110,\n",
              "        112,  121,  122,  144,  145,  147,  148,  155,  159,  170,  173,\n",
              "        177,  189,  190,  192,  195,  197,  200,  207,  211,  214,  215,\n",
              "        229,  240,  248,  251,  255,  260,  261,  263,  271,  272,  276,\n",
              "        297,  298,  308,  316,  324,  344,  354,  365,  374,  379,  381,\n",
              "        392,  399,  401,  404,  411,  416,  430,  431,  440,  441,  448,\n",
              "        460,  466,  473,  477,  483,  488,  500,  507,  523,  531,  533,\n",
              "        535,  540,  547,  548,  559,  564,  568,  579,  580,  586,  588,\n",
              "        593,  598,  599,  603,  608,  609,  613,  615,  628,  629,  636,\n",
              "        643,  664,  670,  687,  691,  694,  697,  719,  730,  735,  745,\n",
              "        749,  751,  770,  787,  798,  803,  807,  809,  818,  821,  829,\n",
              "        830,  838,  844,  847,  856,  877,  880,  889,  893,  897,  899,\n",
              "        920,  922,  926,  931,  933,  953,  962,  967,  972,  977,  979,\n",
              "        982,  987, 1006, 1008, 1010, 1023, 1028, 1030, 1032, 1035, 1040,\n",
              "       1046, 1054, 1064, 1070, 1073, 1091, 1097, 1104, 1110, 1118, 1128,\n",
              "       1138, 1139, 1144, 1145, 1147, 1170, 1172, 1182, 1185, 1194, 1209,\n",
              "       1215, 1227, 1232, 1233, 1234, 1247, 1248, 1265, 1268, 1277, 1281,\n",
              "       1286, 1288, 1291, 1295, 1311, 1320, 1324, 1325, 1327, 1338, 1352,\n",
              "       1355, 1364, 1371, 1372, 1373, 1374, 1384, 1385, 1387, 1391, 1398,\n",
              "       1400, 1403, 1405, 1406, 1407, 1410, 1411, 1421, 1425, 1426, 1431,\n",
              "       1444, 1454, 1459, 1462, 1465, 1475, 1487, 1488, 1489, 1494, 1499,\n",
              "       1509, 1517, 1523, 1525, 1526, 1537, 1541, 1543, 1545, 1547, 1553,\n",
              "       1559, 1563, 1566, 1578, 1581, 1584, 1587, 1595, 1606, 1610, 1612,\n",
              "       1615, 1616, 1618, 1625, 1627, 1628, 1629, 1635, 1636, 1651, 1652,\n",
              "       1656, 1663, 1668, 1680, 1683, 1700, 1705, 1714, 1717, 1734, 1738,\n",
              "       1745, 1748, 1750, 1751, 1753, 1759, 1772, 1779, 1785, 1806, 1827,\n",
              "       1839, 1841, 1845, 1851, 1852, 1859, 1868, 1879, 1889, 1895, 1897,\n",
              "       1900, 1906, 1908, 1918, 1932, 1936, 1939, 1951, 1957, 1960, 1967,\n",
              "       1968, 1970, 1971])"
            ]
          },
          "metadata": {},
          "execution_count": 4
        }
      ]
    },
    {
      "cell_type": "code",
      "source": [
        ""
      ],
      "metadata": {
        "id": "WZlWZcWMimAL"
      },
      "execution_count": null,
      "outputs": []
    }
  ]
}